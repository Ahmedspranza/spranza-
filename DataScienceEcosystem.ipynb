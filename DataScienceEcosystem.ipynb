{
 "cells": [
  {
   "cell_type": "markdown",
   "id": "9b94a5aa-d4ae-44f2-ae71-095b218e6bae",
   "metadata": {},
   "source": [
    "# Data Science Tools and Ecosystem"
   ]
  },
  {
   "cell_type": "code",
   "execution_count": null,
   "id": "eaa92402-6ac5-4cfc-bb66-8750a52a79c8",
   "metadata": {},
   "outputs": [],
   "source": []
  },
  {
   "cell_type": "code",
   "execution_count": null,
   "id": "a723c4fc-53dc-4a86-bd0b-c9640ee612df",
   "metadata": {},
   "outputs": [],
   "source": []
  },
  {
   "cell_type": "markdown",
   "id": "101c4328-23ee-4fc1-a54f-8b67c867412f",
   "metadata": {},
   "source": [
    "In this notebook, Data Science Tools and Ecosystem are summarized."
   ]
  },
  {
   "cell_type": "markdown",
   "id": "fb88c77b-3ce2-4482-93d4-96560803e46a",
   "metadata": {},
   "source": [
    "**Objectives:**\n",
    "- List popular languages for Data Science\n",
    "- Describe the data science ecosystem\n",
    "- Demonstrate basic arithmetic operations in Python\n",
    "- Explain the importance of Jupyter Notebooks in Data Science\n",
    "- Summarize key tools used in data science workflows\n",
    "\n"
   ]
  },
  {
   "cell_type": "markdown",
   "id": "2182693c-7d23-41e8-bab2-45e1366dcb7e",
   "metadata": {},
   "source": [
    "Some of the popular languages that Data Scientists use are:\n",
    "1. Python\n",
    "2. R\n",
    "3. SQL\n",
    "4. Julia\n",
    "5. Java"
   ]
  },
  {
   "cell_type": "markdown",
   "id": "2ee16cf6-e602-4f8a-8f4e-19fbff3e578a",
   "metadata": {},
   "source": [
    "| Data Science Tools |\n",
    "|--------------------|\n",
    "| Jupyter Notebook   |\n",
    "| RStudio            |\n",
    "| Apache Zeppelin    |\n"
   ]
  },
  {
   "cell_type": "markdown",
   "id": "bb23e421-d8f2-40f6-a64c-12b493981876",
   "metadata": {},
   "source": [
    "### Below are a few examples of evaluating arithmetic expressions in Python."
   ]
  },
  {
   "cell_type": "code",
   "execution_count": 12,
   "id": "0932ca76-1ab4-4d80-94dd-e77338c1087e",
   "metadata": {},
   "outputs": [
    {
     "data": {
      "text/plain": [
       "17"
      ]
     },
     "execution_count": 12,
     "metadata": {},
     "output_type": "execute_result"
    }
   ],
   "source": [
    "# This is a simple arithmetic expression to multiply then add integers\n",
    "(3*4) + 5\n"
   ]
  },
  {
   "cell_type": "code",
   "execution_count": 14,
   "id": "9857f01a-fde6-45ca-9981-2aebd4809497",
   "metadata": {},
   "outputs": [
    {
     "ename": "SyntaxError",
     "evalue": "invalid syntax (2136998795.py, line 2)",
     "output_type": "error",
     "traceback": [
      "\u001b[1;36m  Cell \u001b[1;32mIn[14], line 2\u001b[1;36m\u001b[0m\n\u001b[1;33m    200 minutes\u001b[0m\n\u001b[1;37m        ^\u001b[0m\n\u001b[1;31mSyntaxError\u001b[0m\u001b[1;31m:\u001b[0m invalid syntax\n"
     ]
    }
   ],
   "source": [
    "# This will convert 200 minutes to hours by diving by 60\n",
    "200 minutes"
   ]
  },
  {
   "cell_type": "code",
   "execution_count": null,
   "id": "3a2fafbb-3578-4666-889b-4ffcbc6e3293",
   "metadata": {},
   "outputs": [],
   "source": []
  },
  {
   "cell_type": "markdown",
   "id": "57d14c22-7140-4e83-848c-41fd337042b0",
   "metadata": {},
   "source": [
    "# Assistant\n",
    "The error is occurring because the code is not properly formatted and contains a syntax error. The line `200 minutes` is not a valid Python expression.\n",
    "\n",
    "To fix this error, you can rephrase the comment and the code as follows:\n"
   ]
  },
  {
   "cell_type": "code",
   "execution_count": 17,
   "id": "3bc4d0ff-2722-4ef4-8c7e-db683a27b493",
   "metadata": {},
   "outputs": [
    {
     "name": "stdout",
     "output_type": "stream",
     "text": [
      "3.3333333333333335\n"
     ]
    }
   ],
   "source": [
    "# Convert 200 minutes to hours by dividing by 60\n",
    "hours = 200 / 60\n",
    "print(hours)"
   ]
  },
  {
   "cell_type": "markdown",
   "id": "a2be6b8d-8d0c-4f05-bbd1-b64bdb2cdc2c",
   "metadata": {},
   "source": [
    "\n",
    "Explanation:\n",
    "I've rephrased the comment to provide a clear explanation of the code's purpose. Then, I've added a valid Python expression to calculate the number of hours in 200 minutes and print the result.\n",
    "\n",
    "Would you like me to provide the corrected code?"
   ]
  },
  {
   "cell_type": "code",
   "execution_count": 20,
   "id": "8597ba35-50dc-47e3-8e02-87b83f747d61",
   "metadata": {},
   "outputs": [
    {
     "data": {
      "text/plain": [
       "3.3333333333333335"
      ]
     },
     "execution_count": 20,
     "metadata": {},
     "output_type": "execute_result"
    }
   ],
   "source": [
    "# This will convert 200 minutes to hours by dividing by 60\n",
    "hours = 200 / 60\n",
    "hours\n"
   ]
  },
  {
   "cell_type": "markdown",
   "id": "7797593b-b9d9-4af4-becb-5a15fc99beba",
   "metadata": {},
   "source": [
    "## Author\n",
    "Ahmed Elkalawey\n"
   ]
  },
  {
   "cell_type": "code",
   "execution_count": null,
   "id": "444e6af0-57f5-46ad-a3f0-9f5900609d4a",
   "metadata": {},
   "outputs": [],
   "source": []
  }
 ],
 "metadata": {
  "kernelspec": {
   "display_name": "Python 3 (ipykernel)",
   "language": "python",
   "name": "python3"
  },
  "language_info": {
   "codemirror_mode": {
    "name": "ipython",
    "version": 3
   },
   "file_extension": ".py",
   "mimetype": "text/x-python",
   "name": "python",
   "nbconvert_exporter": "python",
   "pygments_lexer": "ipython3",
   "version": "3.12.4"
  }
 },
 "nbformat": 4,
 "nbformat_minor": 5
}
